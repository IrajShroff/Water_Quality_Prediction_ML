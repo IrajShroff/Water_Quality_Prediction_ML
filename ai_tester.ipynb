{
 "cells": [
  {
   "cell_type": "code",
   "execution_count": 1,
   "metadata": {},
   "outputs": [
    {
     "name": "stdout",
     "output_type": "stream",
     "text": [
      "[[361  36]\n",
      " [184  75]]\n",
      "Accuracy of your Model:  0.6051829268292683\n",
      "Fold:1, Train set: 2620, Test set: 656\n",
      "Fold:2, Train set: 2621, Test set: 655\n",
      "Fold:3, Train set: 2621, Test set: 655\n",
      "Fold:4, Train set: 2621, Test set: 655\n",
      "Fold:5, Train set: 2621, Test set: 655\n",
      "Scores for each fold are: [0.64939024 0.65954198 0.67175573 0.68854962 0.6610687 ]\n",
      "Average score Random Forest Classifier: 0.67\n",
      "Scores for each fold are: [0.6097561  0.61068702 0.61068702 0.60916031 0.60916031]\n",
      "Average score SVM: 0.61\n"
     ]
    },
    {
     "data": {
      "text/plain": [
       "(array([0.64939024, 0.65954198, 0.67175573, 0.68854962, 0.6610687 ]),\n",
       " array([0.6097561 , 0.61068702, 0.61068702, 0.60916031, 0.60916031]))"
      ]
     },
     "execution_count": 1,
     "metadata": {},
     "output_type": "execute_result"
    }
   ],
   "source": [
    "from preprocessing import read_csv, impute_with_medians,set_variables\n",
    "from models import random_forest_classifier, logistic_regression ,support_vector_machines, split_data, accuracy_of_model, k_fold_cross_validation\n",
    "\n",
    "csv = \"./water_potability.csv\"\n",
    "\n",
    "\n",
    "dataFile = read_csv(csv)\n",
    "impute_with_medians(dataFile)        \n",
    "X, y = set_variables(dataFile)\n",
    "X_train, X_test, y_train, y_test = split_data(X,y,0.2)\n",
    "\n",
    "\n",
    "#model = random_forest_classifier(X_train, y_train)\n",
    "#model = logistic_regression(X_train, y_train)\n",
    "model = support_vector_machines(X_train, X_test, y_train, y_test)\n",
    "accuracy_of_model(X_test, y_test, model)\n",
    "\n",
    "k_fold_cross_validation(X,y)"
   ]
  }
 ],
 "metadata": {
  "kernelspec": {
   "display_name": "water-quality-env",
   "language": "python",
   "name": "water-quality-env"
  },
  "language_info": {
   "codemirror_mode": {
    "name": "ipython",
    "version": 3
   },
   "file_extension": ".py",
   "mimetype": "text/x-python",
   "name": "python",
   "nbconvert_exporter": "python",
   "pygments_lexer": "ipython3",
   "version": "3.12.3"
  }
 },
 "nbformat": 4,
 "nbformat_minor": 2
}

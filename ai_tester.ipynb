{
 "cells": [
  {
   "cell_type": "code",
   "execution_count": 1,
   "metadata": {},
   "outputs": [
    {
     "name": "stdout",
     "output_type": "stream",
     "text": [
      "[0 0]\n",
      "Accuracy of Logistic Regression: 0.6051829268292683\n"
     ]
    }
   ],
   "source": [
    "from preprocessing import preprocess\n",
    "csv = \"./water_potability.csv\"\n",
    "X, y,= preprocess(csv) \n",
    "from models import Random_Forest_Classifier, Logistic_Regression\n",
    "\n",
    "\n",
    "Random_Forest_Classifier(X, y)\n",
    "Logistic_Regression(X, y)"
   ]
  }
 ],
 "metadata": {
  "kernelspec": {
   "display_name": "water-quality-env",
   "language": "python",
   "name": "water-quality-env"
  },
  "language_info": {
   "codemirror_mode": {
    "name": "ipython",
    "version": 3
   },
   "file_extension": ".py",
   "mimetype": "text/x-python",
   "name": "python",
   "nbconvert_exporter": "python",
   "pygments_lexer": "ipython3",
   "version": "3.12.3"
  }
 },
 "nbformat": 4,
 "nbformat_minor": 2
}

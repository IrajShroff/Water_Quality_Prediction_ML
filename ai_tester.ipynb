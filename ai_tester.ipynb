{
 "cells": [
  {
   "cell_type": "code",
   "execution_count": 1,
   "metadata": {},
   "outputs": [
    {
     "name": "stdout",
     "output_type": "stream",
     "text": [
      "[[361  36]\n",
      " [184  75]]\n",
      "Accuracy of your Model:  0.6051829268292683\n",
      "Fold:1, Train set: 2620, Test set: 656\n",
      "Fold:2, Train set: 2621, Test set: 655\n",
      "Fold:3, Train set: 2621, Test set: 655\n",
      "Fold:4, Train set: 2621, Test set: 655\n",
      "Fold:5, Train set: 2621, Test set: 655\n",
      "Scores for each fold are: [0.64939024 0.65954198 0.67175573 0.68854962 0.6610687 ]\n",
      "Average score Random Forest Classifier: 0.67\n",
      "Scores for each fold are: [0.6097561  0.61068702 0.61068702 0.60916031 0.60916031]\n",
      "Average score SVM: 0.61\n"
     ]
    }
   ],
   "source": [
    "from preprocessing import read_csv, impute_with_medians,set_variables\n",
    "from models import Random_Forest_Classifier, Logistic_Regression, Support_Vector_Machines, Split_Data, Accuracy_of_Model, K_Fold_Cross_Validation\n",
    "\n",
    "csv = \"./water_potability.csv\"\n",
    "\n",
    "\n",
    "dataFile = read_csv(csv)\n",
    "impute_with_medians(dataFile)        \n",
    "X, y = set_variables(dataFile)\n",
    "X_train, X_test, y_train, y_test = Split_Data(X,y)\n",
    "\n",
    "\n",
    "#model = Random_Forest_Classifier(X_train, y_train)\n",
    "#model = Logistic_Regression(X_train, y_train)\n",
    "model = Support_Vector_Machines(X_train, X_test, y_train, y_test)\n",
    "Accuracy_of_Model(X_test, y_test, model)\n",
    "\n",
    "K_Fold_Cross_Validation(X,y)"
   ]
  }
 ],
 "metadata": {
  "kernelspec": {
   "display_name": "water-quality-env",
   "language": "python",
   "name": "water-quality-env"
  },
  "language_info": {
   "codemirror_mode": {
    "name": "ipython",
    "version": 3
   },
   "file_extension": ".py",
   "mimetype": "text/x-python",
   "name": "python",
   "nbconvert_exporter": "python",
   "pygments_lexer": "ipython3",
   "version": "3.12.3"
  }
 },
 "nbformat": 4,
 "nbformat_minor": 2
}
